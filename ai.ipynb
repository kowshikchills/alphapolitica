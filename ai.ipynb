{
 "cells": [
  {
   "cell_type": "code",
   "execution_count": 2,
   "metadata": {},
   "outputs": [],
   "source": [
    "''' \n",
    "packages\n",
    "'''\n",
    "\n",
    "\n",
    "import pandas as pd \n",
    "import ast\n",
    "from googletrans import Translator\n",
    "from multiprocessing import Pool, Manager\n",
    "import numpy as np\n",
    "from collections import Counter\n",
    "\n",
    "\n"
   ]
  },
  {
   "cell_type": "code",
   "execution_count": null,
   "metadata": {},
   "outputs": [],
   "source": [
    "\n",
    "''' \n",
    "\n",
    "Translation of transcibing file\n",
    "\n",
    "'''\n",
    "\n",
    "\n",
    "df_transciption = pd.read_csv('data/complete_data_transcribing.csv')\n",
    "df_transciption = df_transciption[df_transciption.sentences != 'failed']\n",
    "df_transciption['ids'] = df_transciption['id'] \n",
    "df_transciption['comp'] = np.arange(len(df_transciption))\n",
    "del df_transciption['Unnamed: 0']\n",
    "translator = Translator()\n",
    "def update_data_with_trans(A):\n",
    "    d = A[0]\n",
    "    i = A[1]\n",
    "    extracted =  df_transciption[df_transciption.comp == i]['sentences'].values[0]\n",
    "    d[i] = translator.translate(extracted, dest='en').text\n",
    "\n",
    "manager = Manager()\n",
    "translated_dict = manager.dict()\n",
    "with Pool(15) as p:\n",
    "    p.map(update_data_with_trans, [[translated_dict,i] for i in np.arange(len(df_transciption))])\n",
    "df_transciption['translated'] = [translated_dict[i] for i in np.arange(len(df_transciption))]\n",
    "del df_transciption['comp']\n",
    "del df_transciption['ids']\n",
    "df_transciption.to_csv('data/complete_data_transcribing_translated.csv', index=False)\n"
   ]
  },
  {
   "cell_type": "code",
   "execution_count": null,
   "metadata": {},
   "outputs": [],
   "source": [
    "'''\n",
    "Translation of attributes file \n",
    "\n",
    "'''\n",
    "\n",
    "\n",
    "\n",
    "df_attributes = pd.read_csv('data/videos_alphapolitica_complete_info_ids.csv')\n",
    "lis_tag = [ast.literal_eval(i) for i in df_attributes['tags']]\n",
    "lis_tags = [j for i in lis_tag for j in i]\n",
    "dict_counter = dict(Counter(lis_tags))\n",
    "df_counter = pd.DataFrame()\n",
    "df_counter['tags'] = dict_counter.keys()\n",
    "df_counter['counter'] = dict_counter.values()\n",
    "df_counter = df_counter.sort_values(by='counter', ascending= False)\n",
    "stopwords = [i.lower() for i in df_counter[df_counter.counter > 7000]['tags'].values]\n",
    "to_drop = ['today ap news', 'today telugu news','tv5 telugu live','ap news live','ap political news']\n",
    "stopwords = stopwords + to_drop\n",
    "df_attributes['tags'] = [ast.literal_eval(i) for i in df_attributes['tags']]\n",
    "df_attributes['tags_updated'] = [list(set([j.lower() for j in i ])-set(stopwords)) for i in  df_attributes['tags'].values]\n",
    "df_attributes['tags'] = [' '.join(i) for i in df_attributes['tags_updated']]\n",
    "del df_attributes['tags_updated']\n",
    "del df_attributes['Unnamed: 0']\n",
    "df_attributes = df_attributes.dropna(subset=['title'])\n",
    "df_attributes['tags'] = [' '.join(ast.literal_eval(i)) for i in df_attributes['tags']]\n",
    "df_attributes = df_attributes[['ids','title','tags','upload_date','duration','comment_count','view_count','uploader']]\n",
    "df_attributes['comp'] = np.arange(len(df_attributes))\n",
    "translator = Translator()\n",
    "def update_data_with_trans(A):\n",
    "    d = A[0]\n",
    "    i = A[1]\n",
    "    extracted =  df_attributes[df_attributes.comp == i]['title'].values[0]\n",
    "    d[i] = translator.translate(extracted, dest='en').text\n",
    "\n",
    "manager = Manager()\n",
    "translated_dict = manager.dict()\n",
    "with Pool(15) as p:\n",
    "    p.map(update_data_with_trans, [[translated_dict,i] for i in np.arange(len(df_attributes))])\n",
    "df_attributes['title_translated'] = [translated_dict[i] for i in np.arange(len(df_attributes))]\n",
    "del df_attributes['comp']\n",
    "df_attributes.to_csv('data/videos_alphapolitica_complete_info_ids_translated.csv', index= False)\n"
   ]
  },
  {
   "cell_type": "code",
   "execution_count": 4,
   "metadata": {},
   "outputs": [],
   "source": [
    "df = pd.read_csv('data/videos_alphapolitica_complete_info_ids_translated_update.csv')\n",
    "df_transciption = pd.read_csv('data/complete_data_transcribing_translated.csv')\n",
    "df_attributes = pd.read_csv('data/videos_alphapolitica_complete_info_ids_translated_update.csv')\n",
    "df_attributes_merged = df_attributes.merge(df_transciption, on='ids', how='outer')\n",
    "df_attributes_merged = df_attributes_merged.dropna(subset = ['title'])\n",
    "df_attributes_merged = df_attributes_merged[['ids','uploader','translated','tags_translated','title_translated','upload_date','duration','comment_count','view_count']]\n",
    "df_attributes_merged.to_csv('data/data_compiled_final_may_2023.csv', index=False)"
   ]
  },
  {
   "cell_type": "code",
   "execution_count": 9,
   "metadata": {},
   "outputs": [],
   "source": [
    "''' \n",
    "\n",
    "Data is created, paraphrasing ! \n",
    "\n",
    "'''"
   ]
  },
  {
   "cell_type": "code",
   "execution_count": 12,
   "metadata": {},
   "outputs": [
    {
     "name": "stderr",
     "output_type": "stream",
     "text": [
      "/Users/kowshik/projects/personal/alphapolitica/alphapenv/lib/python3.8/site-packages/tqdm/auto.py:22: TqdmWarning: IProgress not found. Please update jupyter and ipywidgets. See https://ipywidgets.readthedocs.io/en/stable/user_install.html\n",
      "  from .autonotebook import tqdm as notebook_tqdm\n"
     ]
    }
   ],
   "source": [
    "from transformers import AutoTokenizer, AutoModelForSeq2SeqLM\n",
    "import sys\n",
    "from tqdm import tqdm\n",
    "import pandas as pd\n",
    "import numpy as np"
   ]
  },
  {
   "cell_type": "code",
   "execution_count": 62,
   "metadata": {},
   "outputs": [],
   "source": [
    "\n",
    "\n",
    "device = \"cuda:0\"\n",
    "tokenizer = AutoTokenizer.from_pretrained(\"humarin/chatgpt_paraphraser_on_T5_base\")\n",
    "model = AutoModelForSeq2SeqLM.from_pretrained(\"humarin/chatgpt_paraphraser_on_T5_base\").to(device)\n",
    "\n",
    "def paraphrase(\n",
    "    question,\n",
    "    num_beams=5,\n",
    "    num_beam_groups=5,\n",
    "    num_return_sequences=1,\n",
    "    repetition_penalty=10.0,\n",
    "    diversity_penalty=3.0,\n",
    "    no_repeat_ngram_size=2,\n",
    "    temperature=0.7,\n",
    "    max_length=1280\n",
    "):\n",
    "    input_ids = tokenizer(\n",
    "        f'paraphrase: {question}',\n",
    "        return_tensors=\"pt\", padding=\"longest\",\n",
    "        max_length=max_length,\n",
    "        truncation=True,\n",
    "    ).input_ids\n",
    "    input_ids = input_ids.to(device)\n",
    "    outputs = model.generate(\n",
    "        input_ids, temperature=temperature, repetition_penalty=repetition_penalty,\n",
    "        num_return_sequences=num_return_sequences, no_repeat_ngram_size=no_repeat_ngram_size,\n",
    "        num_beams=num_beams, num_beam_groups=num_beam_groups,\n",
    "        max_length=max_length, diversity_penalty=diversity_penalty\n",
    "    )\n",
    "    res = tokenizer.batch_decode(outputs, skip_special_tokens=True)\n",
    "    return res\n",
    "\n",
    "df_data  = pd.read_csv('data_compiled_final_may_2023.csv')\n",
    "df_data['translated'] =  df_data['translated'].fillna('')\n",
    "\n",
    "translated_paraphrase = []\n",
    "for i in tqdm(range(len(df_data))):\n",
    "    text = df_data['translated'].values[i]\n",
    "    if text == '':\n",
    "        translated_paraphrase.append(text)\n",
    "    else:\n",
    "        translated_paraphrase.append(paraphrase(text)[0])\n",
    "\n",
    "df_data['translated_paraphrase'] = translated_paraphrase\n",
    "df_data.to_csv('data_compiled_final_may_2023_paraphrased.csv', index = False)\n"
   ]
  },
  {
   "cell_type": "code",
   "execution_count": null,
   "metadata": {},
   "outputs": [],
   "source": [
    "''' \n",
    "\n",
    "Classification\n",
    "\n",
    "'''"
   ]
  },
  {
   "cell_type": "code",
   "execution_count": 2,
   "metadata": {},
   "outputs": [
    {
     "name": "stderr",
     "output_type": "stream",
     "text": [
      "/Users/kowshik/projects/personal/alphapolitica/alphapenv/lib/python3.8/site-packages/tqdm/auto.py:22: TqdmWarning: IProgress not found. Please update jupyter and ipywidgets. See https://ipywidgets.readthedocs.io/en/stable/user_install.html\n",
      "  from .autonotebook import tqdm as notebook_tqdm\n"
     ]
    }
   ],
   "source": [
    "from transformers import AutoTokenizer, AutoModelForSeq2SeqLM\n",
    "import sys\n",
    "from tqdm import tqdm\n",
    "import pandas as pd\n",
    "import numpy as np"
   ]
  },
  {
   "cell_type": "code",
   "execution_count": 3,
   "metadata": {},
   "outputs": [],
   "source": [
    "df_data  = pd.read_csv('data/data_compiled_final_may_2023.csv')\n",
    "df_data['translated'] =  df_data['translated'].fillna('')\n",
    "df_data['tags_translated'] =  df_data['tags_translated'].fillna('')\n",
    "df_data['title_translated'] =  df_data['title_translated'].fillna('')\n",
    "df_data['sentence_for_classification'] = df_data['title_translated'] + ' ' + df_data['translated'] + ' ' +  df_data['tags_translated'] \n",
    "\n"
   ]
  },
  {
   "cell_type": "code",
   "execution_count": 8,
   "metadata": {},
   "outputs": [
    {
     "data": {
      "text/plain": [
       "\"Shouldn't YCP be ashamed for being the reason why Chandrababu said that? | Last Chance | The Debate  \""
      ]
     },
     "execution_count": 8,
     "metadata": {},
     "output_type": "execute_result"
    }
   ],
   "source": [
    "df_data['sentence_for_classification'].values[25]"
   ]
  },
  {
   "cell_type": "code",
   "execution_count": null,
   "metadata": {},
   "outputs": [],
   "source": []
  },
  {
   "cell_type": "code",
   "execution_count": null,
   "metadata": {},
   "outputs": [],
   "source": []
  },
  {
   "cell_type": "code",
   "execution_count": null,
   "metadata": {},
   "outputs": [],
   "source": [
    "topics = ['chandhra babu','YCP', 'jagan', 'TDP','murder',\n",
    " 'vivek', 'roads', 'capital', 'atrocities','volunteer', 'amma vadi',\n",
    "  'welfare', 'schemes', 'lokesh', 'pattabi', 'vijayawada', 'visaka',\n",
    "   'jogi ramesh','vamsi','kodali','nani', 'Education','Agriculture',\n",
    "   'farmers','Corruption','investment','Budget','SC/ST','Polavaram',\n",
    "   'irrigation','YSRCP','Telugu Desam Party','Vidya Deevena','education',\n",
    "   'governance', ]\n"
   ]
  },
  {
   "cell_type": "code",
   "execution_count": null,
   "metadata": {},
   "outputs": [],
   "source": [
    "classifier = pipeline(\"zero-shot-classification\", model=\"facebook/bart-large-mnli\", device = 'cuda:0')\n"
   ]
  },
  {
   "cell_type": "code",
   "execution_count": null,
   "metadata": {},
   "outputs": [],
   "source": [
    "\n",
    "topics = ['chandhra babu','YCP', 'jagan', 'TDP','murder', 'vivek', 'roads', 'capital', 'atrocities','volunteer', 'amma vadi', 'welfare', 'schemes', 'lokesh', 'pattabi', 'vijayawada', 'visaka', 'jogi ramesh','vamsi','kodali','nani']\n",
    "predictions = {}\n",
    "for topic in topics:\n",
    "    predictions[topic] = []\n",
    "    sentences = df_one_shot['to_pred'].values\n",
    "    for sent in tqdm(sentences):\n",
    "        out = classifier(sent, ['chandhra babu'])\n",
    "        predictions[topic].append(out['scores'][0])"
   ]
  },
  {
   "cell_type": "code",
   "execution_count": null,
   "metadata": {},
   "outputs": [],
   "source": [
    "sequence_to_classify"
   ]
  },
  {
   "cell_type": "code",
   "execution_count": null,
   "metadata": {},
   "outputs": [],
   "source": [
    "df_para['para_phrased'].values[0]"
   ]
  },
  {
   "cell_type": "code",
   "execution_count": null,
   "metadata": {},
   "outputs": [],
   "source": []
  },
  {
   "cell_type": "code",
   "execution_count": null,
   "metadata": {},
   "outputs": [],
   "source": []
  }
 ],
 "metadata": {
  "kernelspec": {
   "display_name": "Python 3.8.16 ('alphapenv': venv)",
   "language": "python",
   "name": "python3"
  },
  "language_info": {
   "codemirror_mode": {
    "name": "ipython",
    "version": 3
   },
   "file_extension": ".py",
   "mimetype": "text/x-python",
   "name": "python",
   "nbconvert_exporter": "python",
   "pygments_lexer": "ipython3",
   "version": "3.8.16"
  },
  "orig_nbformat": 4,
  "vscode": {
   "interpreter": {
    "hash": "277fab76d0acca917d9ff45691135e5555c82671ab771a82f606bf05d4140469"
   }
  }
 },
 "nbformat": 4,
 "nbformat_minor": 2
}
