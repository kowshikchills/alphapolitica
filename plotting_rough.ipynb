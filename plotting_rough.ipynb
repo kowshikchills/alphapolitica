{
 "cells": [
  {
   "cell_type": "code",
   "execution_count": 11,
   "metadata": {},
   "outputs": [],
   "source": [
    "import pandas as pd\n",
    "import numpy as np\n",
    "import random\n",
    "import json\n",
    "from collections import Counter\n",
    "import warnings\n",
    "import numpy as np\n",
    "import random\n",
    "from shapely.geometry import Polygon, Point\n",
    "warnings.filterwarnings('ignore')\n",
    "\n",
    "df = pd.read_csv('data/data_compiled_final_may_2023.csv')\n",
    "df['uploader']=[i.split(' ')[0] for i in df['uploader']]\n",
    "df = df[['ids','upload_date','duration','comment_count','view_count','uploader']]\n",
    "df = df.fillna(0)\n",
    "df['upload_date'] = [str(int(i)) for i in df['upload_date']]\n",
    "df['upload_date'] = pd.to_datetime(df['upload_date'],format='%Y%m%d')\n",
    "df['sentiment'] = np.random.uniform(low=-1, high=1, size=(len(df),))\n"
   ]
  },
  {
   "cell_type": "code",
   "execution_count": 12,
   "metadata": {},
   "outputs": [],
   "source": [
    "'''\n",
    "uploader\n",
    "'''\n",
    "df_uploader = df[['uploader','upload_date','duration','comment_count','view_count','sentiment']]\n",
    "df_uploader.to_csv('/Users/kowshik/projects/personal/alphapolitica_streamlit/UIdata/uploader.csv',index= False)\n",
    "\n",
    "'''\n",
    "dummy data\n",
    "'''\n",
    "df_tags = df.copy()\n",
    "for i in range(150):\n",
    "    df_tags['tag'+str(i)] = np.random.randint(low = 2,size=len(df_tags))\n",
    "    df_tags['proba_'+'tag'+str(i)] = np.random.uniform(low=0, high=1, size=(len(df_tags),))\n",
    "\n",
    "''' \n",
    "Faces\n",
    "'''\n",
    "\n",
    "with open(\"data/facerec_results.txt\", \"r\") as fp:\n",
    "    person_dict = json.load(fp)\n",
    "df_attributes = pd.read_excel('data/alphapolitica_faces_attributes.xlsx')\n",
    "\n",
    "df_faces = df.copy()\n",
    "faces_id = list(person_dict.keys())\n",
    "lis_ = []\n",
    "for f_id in faces_id:\n",
    "    if f_id in df_attributes.image_id.values:\n",
    "        faces_dict =  dict(Counter([i[:11] for i in person_dict[f_id]]))\n",
    "        df_faces[f_id] = [faces_dict[i] if i in faces_dict.keys() else 0 for i in df_faces.ids]"
   ]
  },
  {
   "cell_type": "code",
   "execution_count": 13,
   "metadata": {},
   "outputs": [],
   "source": [
    "df_faces.to_csv('/Users/kowshik/projects/personal/alphapolitica_streamlit/UIdata/faces.csv', index = False)\n",
    "df_tags.to_csv('/Users/kowshik/projects/personal/alphapolitica_streamlit/UIdata/tags.csv', index = False)\n"
   ]
  },
  {
   "cell_type": "code",
   "execution_count": 14,
   "metadata": {},
   "outputs": [],
   "source": [
    "df_attributes = pd.read_excel('data/alphapolitica_faces_attributes.xlsx')\n",
    "df_attributes['Age'] = [int(i) for i in df_attributes['Age'].fillna(np.mean(df_attributes['Age']))]\n",
    "df_attributes['constituency'] = df_attributes['Name']\n",
    "\n",
    "poly = Polygon([(17.298641, 79.687922),\n",
    " (16.861628, 81.643629),\n",
    " (14.884918, 79.717799),\n",
    " (14.994391, 77.257505)])\n",
    "\n",
    "def polygon_random_points (poly, num_points):\n",
    "    min_x, min_y, max_x, max_y = poly.bounds\n",
    "    points = []\n",
    "    while len(points) < num_points:\n",
    "            random_point = Point([random.uniform(min_x, max_x), random.uniform(min_y, max_y)])\n",
    "            if (random_point.within(poly)):\n",
    "                points.append(random_point)\n",
    "    return points\n",
    "\n",
    "points = polygon_random_points(poly,len(df_attributes))\n",
    "coords = []\n",
    "for p in points:\n",
    "    coords.append(str(p.x) +\",\"+str(p.y))\n",
    "df_attributes['coords'] = coords\n",
    "df_attributes.to_excel('/Users/kowshik/projects/personal/alphapolitica_streamlit/UIdata/alphapolitica_faces_attributes_coords.xlsx', index = False)\n"
   ]
  },
  {
   "cell_type": "code",
   "execution_count": null,
   "metadata": {},
   "outputs": [],
   "source": []
  }
 ],
 "metadata": {
  "kernelspec": {
   "display_name": "Python 3.8.16 ('alphapenv': venv)",
   "language": "python",
   "name": "python3"
  },
  "language_info": {
   "codemirror_mode": {
    "name": "ipython",
    "version": 3
   },
   "file_extension": ".py",
   "mimetype": "text/x-python",
   "name": "python",
   "nbconvert_exporter": "python",
   "pygments_lexer": "ipython3",
   "version": "3.8.16"
  },
  "orig_nbformat": 4,
  "vscode": {
   "interpreter": {
    "hash": "277fab76d0acca917d9ff45691135e5555c82671ab771a82f606bf05d4140469"
   }
  }
 },
 "nbformat": 4,
 "nbformat_minor": 2
}
