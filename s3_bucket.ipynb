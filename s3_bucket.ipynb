{
 "cells": [
  {
   "cell_type": "code",
   "execution_count": null,
   "metadata": {},
   "outputs": [],
   "source": [
    "\n",
    "import os\n",
    "import sys\n",
    "import boto3\n",
    "from tqdm import tqdm\n",
    "from multiprocessing import Pool, Manager\n",
    "\n",
    "def upload(file):\n",
    "    file_s3 = os.path.normpath(path + '/' + file)\n",
    "    file_local = os.path.join(path, file)\n",
    "    client.upload_file(file_local, bucketname, file_s3)\n",
    "\n",
    "client = boto3.client('s3')\n",
    "local_path = \"faces\"\n",
    "bucketname = \"alphapolitica\"\n",
    "for path, dirs, files in os.walk(local_path):\n",
    "    with Pool(30) as p:\n",
    "        p.map(upload, files)\n"
   ]
  },
  {
   "cell_type": "code",
   "execution_count": null,
   "metadata": {},
   "outputs": [],
   "source": [
    "import boto3\n",
    "s3 = boto3.client('s3')\n",
    "with open(\"data/filename.pickle\", \"rb\") as f:\n",
    "    s3.upload_fileobj(f, \"alphapolitica\", \"facedbvec.pickle\")"
   ]
  }
 ],
 "metadata": {
  "language_info": {
   "name": "python"
  },
  "orig_nbformat": 4
 },
 "nbformat": 4,
 "nbformat_minor": 2
}
