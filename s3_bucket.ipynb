{
 "cells": [
  {
   "cell_type": "code",
   "execution_count": null,
   "metadata": {},
   "outputs": [],
   "source": [
    "import os\n",
    "import sys\n",
    "import boto3\n",
    "client = boto3.client('s3')\n",
    "local_path = \"faces\"\n",
    "bucketname = \"alphapolitica\"\n",
    "for path, dirs, files in os.walk(local_path):\n",
    "    for file in files:\n",
    "        file_s3 = os.path.normpath(path + '/' + file)\n",
    "        file_local = os.path.join(path, file)\n",
    "        print(\"Upload:\", file_local, \"to target:\", file_s3, end=\"\")\n",
    "        client.upload_file(file_local, bucketname, file_s3)\n",
    "        print(\" ...Success\")"
   ]
  },
  {
   "cell_type": "code",
   "execution_count": null,
   "metadata": {},
   "outputs": [],
   "source": []
  }
 ],
 "metadata": {
  "language_info": {
   "name": "python"
  },
  "orig_nbformat": 4
 },
 "nbformat": 4,
 "nbformat_minor": 2
}
