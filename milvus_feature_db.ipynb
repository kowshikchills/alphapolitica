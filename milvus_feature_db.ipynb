{
 "cells": [
  {
   "cell_type": "code",
   "execution_count": 1,
   "metadata": {},
   "outputs": [],
   "source": [
    "from pymilvus import (\n",
    "    connections,\n",
    "    utility,\n",
    "    FieldSchema,\n",
    "    CollectionSchema,\n",
    "    DataType,\n",
    "    Collection,\n",
    ")"
   ]
  },
  {
   "cell_type": "code",
   "execution_count": 2,
   "metadata": {},
   "outputs": [
    {
     "ename": "MilvusException",
     "evalue": "<MilvusException: (code=2, message=Fail connecting to server on localhost:19530. Timeout)>",
     "output_type": "error",
     "traceback": [
      "\u001b[0;31m---------------------------------------------------------------------------\u001b[0m",
      "\u001b[0;31mFutureTimeoutError\u001b[0m                        Traceback (most recent call last)",
      "File \u001b[0;32m~/projects/personal/alphapolitica/alphapenv/lib/python3.8/site-packages/pymilvus/client/grpc_handler.py:116\u001b[0m, in \u001b[0;36mGrpcHandler._wait_for_channel_ready\u001b[0;34m(self, timeout)\u001b[0m\n\u001b[1;32m    115\u001b[0m \u001b[39mtry\u001b[39;00m:\n\u001b[0;32m--> 116\u001b[0m     grpc\u001b[39m.\u001b[39;49mchannel_ready_future(\u001b[39mself\u001b[39;49m\u001b[39m.\u001b[39;49m_channel)\u001b[39m.\u001b[39;49mresult(timeout\u001b[39m=\u001b[39;49mtimeout)\n\u001b[1;32m    117\u001b[0m     \u001b[39mreturn\u001b[39;00m\n",
      "File \u001b[0;32m~/projects/personal/alphapolitica/alphapenv/lib/python3.8/site-packages/grpc/_utilities.py:151\u001b[0m, in \u001b[0;36m_ChannelReadyFuture.result\u001b[0;34m(self, timeout)\u001b[0m\n\u001b[1;32m    150\u001b[0m \u001b[39mdef\u001b[39;00m \u001b[39mresult\u001b[39m(\u001b[39mself\u001b[39m, timeout: Optional[\u001b[39mfloat\u001b[39m] \u001b[39m=\u001b[39m \u001b[39mNone\u001b[39;00m) \u001b[39m-\u001b[39m\u001b[39m>\u001b[39m \u001b[39mNone\u001b[39;00m:\n\u001b[0;32m--> 151\u001b[0m     \u001b[39mself\u001b[39;49m\u001b[39m.\u001b[39;49m_block(timeout)\n",
      "File \u001b[0;32m~/projects/personal/alphapolitica/alphapenv/lib/python3.8/site-packages/grpc/_utilities.py:97\u001b[0m, in \u001b[0;36m_ChannelReadyFuture._block\u001b[0;34m(self, timeout)\u001b[0m\n\u001b[1;32m     96\u001b[0m \u001b[39mif\u001b[39;00m remaining \u001b[39m<\u001b[39m \u001b[39m0\u001b[39m:\n\u001b[0;32m---> 97\u001b[0m     \u001b[39mraise\u001b[39;00m grpc\u001b[39m.\u001b[39mFutureTimeoutError()\n\u001b[1;32m     98\u001b[0m \u001b[39melse\u001b[39;00m:\n",
      "\u001b[0;31mFutureTimeoutError\u001b[0m: ",
      "\nThe above exception was the direct cause of the following exception:\n",
      "\u001b[0;31mMilvusException\u001b[0m                           Traceback (most recent call last)",
      "Cell \u001b[0;32mIn[2], line 1\u001b[0m\n\u001b[0;32m----> 1\u001b[0m \u001b[43mconnections\u001b[49m\u001b[38;5;241;43m.\u001b[39;49m\u001b[43mconnect\u001b[49m\u001b[43m(\u001b[49m\u001b[38;5;124;43m\"\u001b[39;49m\u001b[38;5;124;43mdefault\u001b[39;49m\u001b[38;5;124;43m\"\u001b[39;49m\u001b[43m,\u001b[49m\u001b[43m \u001b[49m\u001b[43mhost\u001b[49m\u001b[38;5;241;43m=\u001b[39;49m\u001b[38;5;124;43m\"\u001b[39;49m\u001b[38;5;124;43mlocalhost\u001b[39;49m\u001b[38;5;124;43m\"\u001b[39;49m\u001b[43m,\u001b[49m\u001b[43m \u001b[49m\u001b[43mport\u001b[49m\u001b[38;5;241;43m=\u001b[39;49m\u001b[38;5;124;43m\"\u001b[39;49m\u001b[38;5;124;43m19530\u001b[39;49m\u001b[38;5;124;43m\"\u001b[39;49m\u001b[43m)\u001b[49m\n",
      "File \u001b[0;32m~/projects/personal/alphapolitica/alphapenv/lib/python3.8/site-packages/pymilvus/orm/connections.py:312\u001b[0m, in \u001b[0;36mConnections.connect\u001b[0;34m(self, alias, user, password, **kwargs)\u001b[0m\n\u001b[1;32m    309\u001b[0m         \u001b[39mif\u001b[39;00m \u001b[39mlen\u001b[39m(user) \u001b[39m>\u001b[39m \u001b[39m0\u001b[39m \u001b[39mand\u001b[39;00m \u001b[39mlen\u001b[39m(password) \u001b[39m>\u001b[39m \u001b[39m0\u001b[39m:\n\u001b[1;32m    310\u001b[0m             kwargs[\u001b[39m\"\u001b[39m\u001b[39msecure\u001b[39m\u001b[39m\"\u001b[39m] \u001b[39m=\u001b[39m \u001b[39mTrue\u001b[39;00m\n\u001b[0;32m--> 312\u001b[0m     connect_milvus(\u001b[39m*\u001b[39;49m\u001b[39m*\u001b[39;49mkwargs, user\u001b[39m=\u001b[39;49muser, password\u001b[39m=\u001b[39;49mpassword)\n\u001b[1;32m    313\u001b[0m     \u001b[39mreturn\u001b[39;00m\n\u001b[1;32m    315\u001b[0m \u001b[39m# 2nd Priority, connection configs from env\u001b[39;00m\n",
      "File \u001b[0;32m~/projects/personal/alphapolitica/alphapenv/lib/python3.8/site-packages/pymilvus/orm/connections.py:271\u001b[0m, in \u001b[0;36mConnections.connect.<locals>.connect_milvus\u001b[0;34m(**kwargs)\u001b[0m\n\u001b[1;32m    268\u001b[0m t \u001b[39m=\u001b[39m kwargs\u001b[39m.\u001b[39mget(\u001b[39m\"\u001b[39m\u001b[39mtimeout\u001b[39m\u001b[39m\"\u001b[39m)\n\u001b[1;32m    269\u001b[0m timeout \u001b[39m=\u001b[39m t \u001b[39mif\u001b[39;00m \u001b[39misinstance\u001b[39m(t, (\u001b[39mint\u001b[39m, \u001b[39mfloat\u001b[39m)) \u001b[39melse\u001b[39;00m Config\u001b[39m.\u001b[39mMILVUS_CONN_TIMEOUT\n\u001b[0;32m--> 271\u001b[0m gh\u001b[39m.\u001b[39;49m_wait_for_channel_ready(timeout\u001b[39m=\u001b[39;49mtimeout)\n\u001b[1;32m    272\u001b[0m kwargs\u001b[39m.\u001b[39mpop(\u001b[39m'\u001b[39m\u001b[39mpassword\u001b[39m\u001b[39m'\u001b[39m)\n\u001b[1;32m    273\u001b[0m kwargs\u001b[39m.\u001b[39mpop(\u001b[39m'\u001b[39m\u001b[39msecure\u001b[39m\u001b[39m'\u001b[39m, \u001b[39mNone\u001b[39;00m)\n",
      "File \u001b[0;32m~/projects/personal/alphapolitica/alphapenv/lib/python3.8/site-packages/pymilvus/client/grpc_handler.py:119\u001b[0m, in \u001b[0;36mGrpcHandler._wait_for_channel_ready\u001b[0;34m(self, timeout)\u001b[0m\n\u001b[1;32m    117\u001b[0m         \u001b[39mreturn\u001b[39;00m\n\u001b[1;32m    118\u001b[0m     \u001b[39mexcept\u001b[39;00m grpc\u001b[39m.\u001b[39mFutureTimeoutError \u001b[39mas\u001b[39;00m e:\n\u001b[0;32m--> 119\u001b[0m         \u001b[39mraise\u001b[39;00m MilvusException(Status\u001b[39m.\u001b[39mCONNECT_FAILED,\n\u001b[1;32m    120\u001b[0m                               \u001b[39mf\u001b[39m\u001b[39m'\u001b[39m\u001b[39mFail connecting to server on \u001b[39m\u001b[39m{\u001b[39;00m\u001b[39mself\u001b[39m\u001b[39m.\u001b[39m_address\u001b[39m}\u001b[39;00m\u001b[39m. Timeout\u001b[39m\u001b[39m'\u001b[39m) \u001b[39mfrom\u001b[39;00m \u001b[39me\u001b[39;00m\n\u001b[1;32m    122\u001b[0m \u001b[39mraise\u001b[39;00m MilvusException(Status\u001b[39m.\u001b[39mCONNECT_FAILED, \u001b[39m'\u001b[39m\u001b[39mNo channel in handler, please setup grpc channel first\u001b[39m\u001b[39m'\u001b[39m)\n",
      "\u001b[0;31mMilvusException\u001b[0m: <MilvusException: (code=2, message=Fail connecting to server on localhost:19530. Timeout)>"
     ]
    }
   ],
   "source": [
    "connections.connect(\"default\", host=\"localhost\", port=\"19530\")\n",
    "\n"
   ]
  },
  {
   "cell_type": "code",
   "execution_count": null,
   "metadata": {},
   "outputs": [],
   "source": []
  }
 ],
 "metadata": {
  "kernelspec": {
   "display_name": "Python 3.8.16 ('alphapenv': venv)",
   "language": "python",
   "name": "python3"
  },
  "language_info": {
   "codemirror_mode": {
    "name": "ipython",
    "version": 3
   },
   "file_extension": ".py",
   "mimetype": "text/x-python",
   "name": "python",
   "nbconvert_exporter": "python",
   "pygments_lexer": "ipython3",
   "version": "3.8.16"
  },
  "orig_nbformat": 4,
  "vscode": {
   "interpreter": {
    "hash": "277fab76d0acca917d9ff45691135e5555c82671ab771a82f606bf05d4140469"
   }
  }
 },
 "nbformat": 4,
 "nbformat_minor": 2
}
