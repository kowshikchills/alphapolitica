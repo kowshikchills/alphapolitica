{
 "cells": [
  {
   "cell_type": "code",
   "execution_count": null,
   "metadata": {},
   "outputs": [],
   "source": [
    "import glob\n",
    "from src.face_search_utils import *\n",
    "import json\n",
    "\n",
    "json_dict = {}\n",
    "for face_loc in glob.glob('../alphapolitica_faces/*')[:2]:\n",
    "    face_id = face_loc.split('../alphapolitica_faces/')[1]\n",
    "    json_dict[face_id] = matching_ids(face_loc)\n",
    "\n",
    "with open(\"../data/facerec_results.txt\", \"w\") as fp:\n",
    "    json.dump(json_dict, fp)\n",
    "\n",
    "\n",
    "\n",
    "with open(\"data/facerec_results.txt\", \"r\") as fp:\n",
    "    person_dict = json.load(fp)"
   ]
  }
 ],
 "metadata": {
  "language_info": {
   "name": "python"
  },
  "orig_nbformat": 4
 },
 "nbformat": 4,
 "nbformat_minor": 2
}
