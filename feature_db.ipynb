{
 "cells": [
  {
   "cell_type": "code",
   "execution_count": null,
   "metadata": {},
   "outputs": [],
   "source": [
    "import pickle\n",
    "from qdrant_client import QdrantClient\n",
    "from qdrant_client.models import Distance, VectorParams\n",
    "import face_recognition\n",
    "from PIL import Image, ImageDraw\n",
    "import numpy as np\n",
    "import glob\n",
    "from tqdm import tqdm\n",
    "from qdrant_client.models import PointStruct\n",
    "\n",
    "\n",
    "client = QdrantClient(path=\"/home/ubuntu/alphapolitica/db\") \n",
    "client.recreate_collection(\n",
    "    collection_name=\"alphapolitica_face_db\",\n",
    "    vectors_config=VectorParams(size=128, distance=Distance.COSINE),\n",
    ")\n",
    "\n",
    "with open('data/filename.pickle', 'rb') as handle:\n",
    "    facevecdb = pickle.load(handle)\n",
    "def upload(id_, face_loc, face_encoding ):\n",
    "    client.upsert(\n",
    "    collection_name=\"alphapolitica_face_db\",\n",
    "    points=[\n",
    "        PointStruct(\n",
    "            id=id_,\n",
    "            vector=face_encoding.tolist(),\n",
    "            payload={\"location\": face_loc}\n",
    "        )])\n",
    "id_ = 0\n",
    "for face_loc, face_encoding in tqdm(facevecdb.items()):\n",
    "    face_loc_id = face_loc.split('faces/')[1].split('.png')[0].split('_face')[0]\n",
    "    id_ =id_ + 1\n",
    "    upload(id_, face_loc_id, face_encoding )\n",
    "    if id_>100:\n",
    "        break"
   ]
  },
  {
   "cell_type": "code",
   "execution_count": null,
   "metadata": {},
   "outputs": [],
   "source": [
    "import face_recognition\n",
    "from PIL import Image, ImageDraw\n",
    "import numpy as np\n",
    "import glob\n",
    "from tqdm import tqdm\n",
    "first_arr_loaded = True\n",
    "for face_loc in ['faces/xvIYQk-mDTU_2001_face_0.png']:#glob.glob('known_faces/*png'):\n",
    "    print(face_loc)\n",
    "    image_ = face_recognition.load_image_file(face_loc)\n",
    "    face_locations = face_recognition.face_locations(image_)\n",
    "    face_encoding = face_recognition.face_encodings(image_ , model= 'small')[0]\n",
    "    if first_arr_loaded:\n",
    "        known_faces_arr = np.reshape(face_encoding, (-1,len(face_encoding)))\n",
    "        first_arr_loaded = False\n",
    "    else:\n",
    "        known_faces_arr = np.append(known_faces_arr,  np.reshape(face_encoding, (-1,len(face_encoding))), axis = 0) "
   ]
  },
  {
   "cell_type": "code",
   "execution_count": null,
   "metadata": {},
   "outputs": [],
   "source": [
    "query_vector = face_encoding\n",
    "hits = client.search(\n",
    "    collection_name=\"alphapolitica_face_db\",\n",
    "    query_vector=query_vector,\n",
    "    score_threshold=0.9  # Return 5 closest points\n",
    ")"
   ]
  }
 ],
 "metadata": {
  "kernelspec": {
   "display_name": "Python 3.10.6 64-bit",
   "language": "python",
   "name": "python3"
  },
  "language_info": {
   "codemirror_mode": {
    "name": "ipython",
    "version": 3
   },
   "file_extension": ".py",
   "mimetype": "text/x-python",
   "name": "python",
   "nbconvert_exporter": "python",
   "pygments_lexer": "ipython3",
   "version": "3.10.6"
  },
  "orig_nbformat": 4,
  "vscode": {
   "interpreter": {
    "hash": "31f2aee4e71d21fbe5cf8b01ff0e069b9275f58929596ceb00d14d90e3e16cd6"
   }
  }
 },
 "nbformat": 4,
 "nbformat_minor": 2
}
