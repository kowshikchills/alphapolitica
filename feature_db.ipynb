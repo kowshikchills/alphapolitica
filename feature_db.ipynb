{
 "cells": [
  {
   "cell_type": "code",
   "execution_count": 1,
   "metadata": {},
   "outputs": [],
   "source": [
    "from qdrant_client import QdrantClient\n",
    "client = QdrantClient(path=\"/home/ubuntu/alphapolitica/db\") "
   ]
  },
  {
   "cell_type": "code",
   "execution_count": null,
   "metadata": {},
   "outputs": [],
   "source": [
    "from qdrant_client.models import Distance, VectorParams\n",
    "client.recreate_collection(\n",
    "    collection_name=\"alphapolitica_face_db\",\n",
    "    vectors_config=VectorParams(size=128, distance=Distance.COSINE),\n",
    ")"
   ]
  },
  {
   "cell_type": "code",
   "execution_count": null,
   "metadata": {},
   "outputs": [],
   "source": [
    "import face_recognition\n",
    "from PIL import Image, ImageDraw\n",
    "import numpy as np\n",
    "import glob\n",
    "from tqdm import tqdm\n",
    "from qdrant_client.models import PointStruct\n",
    "\n",
    "failed = []\n",
    "id_ = 0\n",
    "for face_loc in tqdm(glob.glob('test_faces/*png')):\n",
    "    try:\n",
    "        image_ = face_recognition.load_image_file(face_loc)\n",
    "        face_encoding = face_recognition.face_encodings(image_,  model= 'small')[0]\n",
    "        client.upsert(\n",
    "        collection_name=\"alphapolitica_face_db\",\n",
    "        points=[\n",
    "            PointStruct(\n",
    "                id=id_,\n",
    "                vector=face_encoding.tolist(),\n",
    "                payload={\"location\": face_loc}\n",
    "            )\n",
    "        ]\n",
    "    )\n",
    "    except:\n",
    "        failed.append(face_loc) \n",
    "    id_ = id_ +1"
   ]
  },
  {
   "cell_type": "code",
   "execution_count": null,
   "metadata": {},
   "outputs": [],
   "source": [
    "import face_recognition\n",
    "from PIL import Image, ImageDraw\n",
    "import numpy as np\n",
    "import glob\n",
    "from tqdm import tqdm\n",
    "first_arr_loaded = True\n",
    "for face_loc in ['m1.png']:#glob.glob('known_faces/*png'):\n",
    "    print(face_loc)\n",
    "    image_ = face_recognition.load_image_file(face_loc)\n",
    "    face_locations = face_recognition.face_locations(image_)\n",
    "    face_encoding = face_recognition.face_encodings(image_ , model= 'small')[0]\n",
    "    if first_arr_loaded:\n",
    "        known_faces_arr = np.reshape(face_encoding, (-1,len(face_encoding)))\n",
    "        first_arr_loaded = False\n",
    "    else:\n",
    "        known_faces_arr = np.append(known_faces_arr,  np.reshape(face_encoding, (-1,len(face_encoding))), axis = 0) "
   ]
  },
  {
   "cell_type": "code",
   "execution_count": null,
   "metadata": {},
   "outputs": [],
   "source": [
    "query_vector = face_encoding\n",
    "hits = client.search(\n",
    "    collection_name=\"alphapolitica_face_db\",\n",
    "    query_vector=query_vector,\n",
    "    score_threshold=0.9  # Return 5 closest points\n",
    ")"
   ]
  }
 ],
 "metadata": {
  "kernelspec": {
   "display_name": "Python 3.8.16 ('alphapenv': venv)",
   "language": "python",
   "name": "python3"
  },
  "language_info": {
   "codemirror_mode": {
    "name": "ipython",
    "version": 3
   },
   "file_extension": ".py",
   "mimetype": "text/x-python",
   "name": "python",
   "nbconvert_exporter": "python",
   "pygments_lexer": "ipython3",
   "version": "3.8.16"
  },
  "orig_nbformat": 4,
  "vscode": {
   "interpreter": {
    "hash": "277fab76d0acca917d9ff45691135e5555c82671ab771a82f606bf05d4140469"
   }
  }
 },
 "nbformat": 4,
 "nbformat_minor": 2
}
