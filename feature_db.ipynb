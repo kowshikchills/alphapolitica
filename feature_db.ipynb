{
 "cells": [
  {
   "cell_type": "code",
   "execution_count": 1,
   "metadata": {},
   "outputs": [],
   "source": [
    "import pickle\n",
    "from qdrant_client import QdrantClient\n",
    "from qdrant_client.models import Distance, VectorParams\n",
    "import face_recognition\n",
    "from PIL import Image, ImageDraw\n",
    "import numpy as np\n",
    "import glob\n",
    "from tqdm import tqdm\n",
    "from qdrant_client.models import PointStruct\n",
    "\n",
    "\n",
    "client = QdrantClient(path=\"/home/ubuntu/alphapolitica/db\") \n",
    "client.recreate_collection(\n",
    "    collection_name=\"alphapolitica_face_db\",\n",
    "    vectors_config=VectorParams(size=128, distance=Distance.COSINE),\n",
    ")\n",
    "\n",
    "with open('data/filename.pickle', 'rb') as handle:\n",
    "    facevecdb = pickle.load(handle)\n",
    "def upload(id_, face_loc, face_encoding ):\n",
    "    client.upsert(\n",
    "    collection_name=\"alphapolitica_face_db\",\n",
    "    points=[\n",
    "        PointStruct(\n",
    "            id=id_,\n",
    "            vector=face_encoding.tolist(),\n",
    "            payload={\"location\": face_loc}\n",
    "        )])\n",
    "id_ = 0\n",
    "for face_loc, face_encoding in tqdm(facevecdb.items()):\n",
    "    face_loc_id = face_loc.split('faces/')[1].split('.png')[0].split('_face')[0]\n",
    "    id_ =id_ + 1\n",
    "    upload(id_, face_loc_id, face_encoding )\n",
    "    if id_>100:\n",
    "        break"
   ]
  },
  {
   "cell_type": "code",
   "execution_count": 1,
   "metadata": {},
   "outputs": [
    {
     "ename": "FileNotFoundError",
     "evalue": "[Errno 2] No such file or directory: 'data/filename.pickle'",
     "output_type": "error",
     "traceback": [
      "\u001b[0;31m---------------------------------------------------------------------------\u001b[0m",
      "\u001b[0;31mFileNotFoundError\u001b[0m                         Traceback (most recent call last)",
      "\u001b[1;32m/Users/kowshik/projects/personal/alphapolitica/feature_db.ipynb Cell 1'\u001b[0m in \u001b[0;36m<cell line: 2>\u001b[0;34m()\u001b[0m\n\u001b[1;32m      <a href='vscode-notebook-cell:/Users/kowshik/projects/personal/alphapolitica/feature_db.ipynb#ch0000000?line=0'>1</a>\u001b[0m \u001b[39mimport\u001b[39;00m \u001b[39mpickle\u001b[39;00m\n\u001b[0;32m----> <a href='vscode-notebook-cell:/Users/kowshik/projects/personal/alphapolitica/feature_db.ipynb#ch0000000?line=1'>2</a>\u001b[0m \u001b[39mwith\u001b[39;00m \u001b[39mopen\u001b[39;49m(\u001b[39m'\u001b[39;49m\u001b[39mdata/filename.pickle\u001b[39;49m\u001b[39m'\u001b[39;49m, \u001b[39m'\u001b[39;49m\u001b[39mrb\u001b[39;49m\u001b[39m'\u001b[39;49m) \u001b[39mas\u001b[39;00m handle:\n\u001b[1;32m      <a href='vscode-notebook-cell:/Users/kowshik/projects/personal/alphapolitica/feature_db.ipynb#ch0000000?line=2'>3</a>\u001b[0m     facevecdb \u001b[39m=\u001b[39m pickle\u001b[39m.\u001b[39mload(handle)\n",
      "\u001b[0;31mFileNotFoundError\u001b[0m: [Errno 2] No such file or directory: 'data/filename.pickle'"
     ]
    }
   ],
   "source": [
    "import face_recognition\n",
    "from PIL import Image, ImageDraw\n",
    "import numpy as np\n",
    "import glob\n",
    "from tqdm import tqdm\n",
    "first_arr_loaded = True\n",
    "for face_loc in ['faces/xvIYQk-mDTU_2001_face_0.png']:#glob.glob('known_faces/*png'):\n",
    "    print(face_loc)\n",
    "    image_ = face_recognition.load_image_file(face_loc)\n",
    "    face_locations = face_recognition.face_locations(image_)\n",
    "    face_encoding = face_recognition.face_encodings(image_ , model= 'small')[0]\n",
    "    if first_arr_loaded:\n",
    "        known_faces_arr = np.reshape(face_encoding, (-1,len(face_encoding)))\n",
    "        first_arr_loaded = False\n",
    "    else:\n",
    "        known_faces_arr = np.append(known_faces_arr,  np.reshape(face_encoding, (-1,len(face_encoding))), axis = 0) "
   ]
  },
  {
   "cell_type": "code",
   "execution_count": null,
   "metadata": {},
   "outputs": [],
   "source": [
    "query_vector = face_encoding\n",
    "hits = client.search(\n",
    "    collection_name=\"alphapolitica_face_db\",\n",
    "    query_vector=query_vector,\n",
    "    score_threshold=0.9  # Return 5 closest points\n",
    ")"
   ]
  }
 ],
 "metadata": {
  "kernelspec": {
   "display_name": "Python 3.10.6 64-bit",
   "language": "python",
   "name": "python3"
  },
  "language_info": {
   "codemirror_mode": {
    "name": "ipython",
    "version": 3
   },
   "file_extension": ".py",
   "mimetype": "text/x-python",
   "name": "python",
   "nbconvert_exporter": "python",
   "pygments_lexer": "ipython3",
   "version": "3.8.9"
  },
  "orig_nbformat": 4,
  "vscode": {
   "interpreter": {
    "hash": "31f2aee4e71d21fbe5cf8b01ff0e069b9275f58929596ceb00d14d90e3e16cd6"
   }
  }
 },
 "nbformat": 4,
 "nbformat_minor": 2
}
