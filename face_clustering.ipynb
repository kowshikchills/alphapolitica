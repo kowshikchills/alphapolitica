{
 "cells": [
  {
   "cell_type": "code",
   "execution_count": 35,
   "metadata": {},
   "outputs": [
    {
     "name": "stdout",
     "output_type": "stream",
     "text": [
      "known_faces/m1.png\n"
     ]
    }
   ],
   "source": [
    "import face_recognition\n",
    "from PIL import Image, ImageDraw\n",
    "import numpy as np\n",
    "import glob\n",
    "first_arr_loaded = True\n",
    "for face_loc in ['known_faces/m1.png']:#glob.glob('known_faces/*png'):\n",
    "    print(face_loc)\n",
    "    image_ = face_recognition.load_image_file(face_loc)\n",
    "    face_locations = face_recognition.face_locations(image_)\n",
    "    face_encoding = face_recognition.face_encodings(image_ , model= 'small')[0]\n",
    "    if first_arr_loaded:\n",
    "        known_faces_arr = np.reshape(face_encoding, (-1,len(face_encoding)))\n",
    "        first_arr_loaded = False\n",
    "    else:\n",
    "        known_faces_arr = np.append(known_faces_arr,  np.reshape(face_encoding, (-1,len(face_encoding))), axis = 0) "
   ]
  },
  {
   "cell_type": "code",
   "execution_count": 36,
   "metadata": {},
   "outputs": [],
   "source": [
    "first_arr_loaded = True\n",
    "failed = []\n",
    "faces = []\n",
    "\n",
    "for face_loc in glob.glob('faces/*png'):\n",
    "    try:\n",
    "        image_ = face_recognition.load_image_file(face_loc)\n",
    "        face_encoding = face_recognition.face_encodings(image_)[0]\n",
    "        if first_arr_loaded:\n",
    "            faces_arr = np.reshape(face_encoding, (-1,len(face_encoding)))\n",
    "            first_arr_loaded = False\n",
    "        else:\n",
    "            faces_arr = np.append(faces_arr,  np.reshape(face_encoding, (-1,len(face_encoding))), axis = 0)\n",
    "        faces.append(face_loc)\n",
    "    except:\n",
    "        failed.append(face_loc) "
   ]
  },
  {
   "cell_type": "code",
   "execution_count": 38,
   "metadata": {},
   "outputs": [
    {
     "data": {
      "text/plain": [
       "array([0.65140393, 0.48717934, 0.58596944, 0.50507786, 0.61907149,\n",
       "       0.66538422, 0.57001404, 0.63174908, 0.67163918, 0.67795179,\n",
       "       0.63110928, 0.69859866, 0.6295133 , 0.6642025 , 0.67667981,\n",
       "       0.61836041, 0.62978458, 0.64599158, 0.63685273, 0.6127959 ,\n",
       "       0.62368121, 0.43479706, 0.61693748, 0.44939516, 0.44027096,\n",
       "       0.67676439, 0.63451181, 0.61603264, 0.63368969, 0.64640119,\n",
       "       0.69804511, 0.43185182, 0.67096829, 0.63959529, 0.61440959,\n",
       "       0.46235043, 0.64372409, 0.67344481, 0.65788511, 0.62005848,\n",
       "       0.43543539, 0.60983679, 0.63357597, 0.61967901, 0.48547395,\n",
       "       0.65500208, 0.62339028, 0.64736636, 0.66381886, 0.61967508,\n",
       "       0.62629244, 0.66358472, 0.73878498, 0.63986335])"
      ]
     },
     "execution_count": 38,
     "metadata": {},
     "output_type": "execute_result"
    }
   ],
   "source": [
    "similarity = face_recognition.face_distance(faces_arr,known_faces_arr)\n",
    "similarity"
   ]
  },
  {
   "cell_type": "code",
   "execution_count": 46,
   "metadata": {},
   "outputs": [
    {
     "data": {
      "text/plain": [
       "8"
      ]
     },
     "execution_count": 46,
     "metadata": {},
     "output_type": "execute_result"
    }
   ],
   "source": [
    "import matplotlib.pyplot as plt\n",
    "\n",
    "image_ = []\n",
    "for i in np.array(faces)[similarity < 0.5]:\n",
    "    image_.append(face_recognition.load_image_file(i))\n",
    "len(image_)"
   ]
  },
  {
   "cell_type": "code",
   "execution_count": 52,
   "metadata": {},
   "outputs": [
    {
     "data": {
      "text/plain": [
       "<matplotlib.image.AxesImage at 0x16aaaa040>"
      ]
     },
     "execution_count": 52,
     "metadata": {},
     "output_type": "execute_result"
    },
    {
     "data": {
      "image/png": "[encoded data removed]",
      "text/plain": [
       "<Figure size 640x480 with 1 Axes>"
      ]
     },
     "metadata": {},
     "output_type": "display_data"
    }
   ],
   "source": [
    "plt.imshow(image_[7])"
   ]
  },
  {
   "cell_type": "code",
   "execution_count": 27,
   "metadata": {},
   "outputs": [],
   "source": [
    "from yt_dlp import YoutubeDL\n",
    "\n",
    "URLS = ['https://www.youtube.com/watch?v=BaW_jenozKc']\n",
    "\n",
    "import os\n",
    "\n",
    "cur_dir = os.getcwd()\n",
    "def download_video(link, id):\n",
    "    youtube_dl_options = {\n",
    "        \"outtmpl\": os.path.join('/Users/kowshik/projects/personal/alphapolitica/video_data', f\"{id}.mp4\"),\n",
    "        'extract_audio': False,\n",
    "        'format':'133'\n",
    "    }\n",
    "    with YoutubeDL(youtube_dl_options) as ydl:\n",
    "        return ydl.download([link])\n"
   ]
  },
  {
   "cell_type": "code",
   "execution_count": 28,
   "metadata": {},
   "outputs": [
    {
     "name": "stdout",
     "output_type": "stream",
     "text": [
      "[youtube] Extracting URL: https://www.youtube.com/watch?v=NzSm94fUGbM\n",
      "[youtube] NzSm94fUGbM: Downloading webpage\n",
      "[youtube] NzSm94fUGbM: Downloading android player API JSON\n",
      "[info] NzSm94fUGbM: Downloading 1 format(s): 133\n",
      "[dashsegments] Total fragments: 1\n",
      "[download] Destination: /Users/kowshik/projects/personal/alphapolitica/video_data/NzSm94fUGbM.mp4\n",
      "[download] 100% of    6.51MiB in 00:00:01 at 4.73MiB/s               \n"
     ]
    },
    {
     "data": {
      "text/plain": [
       "0"
      ]
     },
     "execution_count": 28,
     "metadata": {},
     "output_type": "execute_result"
    }
   ],
   "source": [
    "download_video('https://www.youtube.com/watch?v=NzSm94fUGbM','NzSm94fUGbM')"
   ]
  },
  {
   "cell_type": "code",
   "execution_count": 54,
   "metadata": {},
   "outputs": [
    {
     "data": {
      "text/plain": [
       "'/Users/kowshik/projects/personal/alphapolitica/video_data/sdfs.mp4'"
      ]
     },
     "execution_count": 54,
     "metadata": {},
     "output_type": "execute_result"
    }
   ],
   "source": [
    "id = 'sdfs'\n",
    "os.path.join('/Users/kowshik/projects/personal/alphapolitica/video_data', f\"{id}.mp4\")"
   ]
  },
  {
   "cell_type": "code",
   "execution_count": 29,
   "metadata": {},
   "outputs": [],
   "source": [
    "import cv2\n",
    "mp4_file_download = 'NzSm94fUGbM.mp4'\n",
    "file = 'video_data/'+ mp4_file_download\n",
    "cap = cv2.VideoCapture(file)\n",
    "path = file.split('.mp4')[0]\n",
    "os.mkdir(path)\n",
    "fps = int(cap.get(cv2.CAP_PROP_FPS))\n",
    "save_interval = 5\n",
    "frame_count = 0\n",
    "while cap.isOpened():\n",
    "    ret, frame = cap.read()\n",
    "    if ret:\n",
    "        frame_count += 1\n",
    "        if frame_count % (fps * save_interval) == 1:\n",
    "            cv2.imwrite(path + '/'+ str(frame_count) +'.png',frame)\n",
    "    else:\n",
    "        break\n",
    "cap.release()\n",
    "cv2.destroyAllWindows()\n",
    "os.remove(file)"
   ]
  },
  {
   "cell_type": "code",
   "execution_count": 30,
   "metadata": {},
   "outputs": [
    {
     "name": "stdout",
     "output_type": "stream",
     "text": [
      "NzSm94fUGbM\n"
     ]
    }
   ],
   "source": [
    "from src.create_faces_video import CreateFaces\n",
    "import time\n",
    "import glob\n",
    "CF = CreateFaces()\n",
    "CF.get_all_faces_from_folder()"
   ]
  },
  {
   "cell_type": "code",
   "execution_count": null,
   "metadata": {},
   "outputs": [],
   "source": []
  }
 ],
 "metadata": {
  "kernelspec": {
   "display_name": "Python 3.8.16 ('alphapenv': venv)",
   "language": "python",
   "name": "python3"
  },
  "language_info": {
   "codemirror_mode": {
    "name": "ipython",
    "version": 3
   },
   "file_extension": ".py",
   "mimetype": "text/x-python",
   "name": "python",
   "nbconvert_exporter": "python",
   "pygments_lexer": "ipython3",
   "version": "3.8.16"
  },
  "orig_nbformat": 4,
  "vscode": {
   "interpreter": {
    "hash": "277fab76d0acca917d9ff45691135e5555c82671ab771a82f606bf05d4140469"
   }
  }
 },
 "nbformat": 4,
 "nbformat_minor": 2
}
