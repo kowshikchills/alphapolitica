{
 "cells": [
  {
   "cell_type": "code",
   "execution_count": null,
   "metadata": {},
   "outputs": [],
   "source": [
    "import face_recognition\n",
    "from PIL import Image, ImageDraw\n",
    "import numpy as np\n",
    "import glob\n",
    "first_arr_loaded = True\n",
    "for face_loc in ['known_faces/j1.png','known_faces/j2.png','known_faces/j3.png','known_faces/j4.png']:#glob.glob('known_faces/*png'):\n",
    "    print(face_loc)\n",
    "    image_ = face_recognition.load_image_file(face_loc)\n",
    "    face_locations = face_recognition.face_locations(image_)\n",
    "    x = image_.shape[0]\n",
    "    y = image_.shape[1]\n",
    "    loc = [(0,0,x,y)]\n",
    "    face_encoding = face_recognition.face_encodings(image_, loc, num_jitters=100, model='large')[0]\n",
    "    if first_arr_loaded:\n",
    "        known_faces_arr = np.reshape(face_encoding, (-1,len(face_encoding)))\n",
    "        first_arr_loaded = False\n",
    "    else:\n",
    "        known_faces_arr = np.append(known_faces_arr,  np.reshape(face_encoding, (-1,len(face_encoding))), axis = 0) \n",
    "\n",
    "            "
   ]
  },
  {
   "cell_type": "code",
   "execution_count": null,
   "metadata": {},
   "outputs": [],
   "source": [
    "known_faces_arr.mean(axis=0)"
   ]
  },
  {
   "cell_type": "code",
   "execution_count": null,
   "metadata": {},
   "outputs": [],
   "source": [
    "first_arr_loaded = True\n",
    "failed = []\n",
    "faces = []\n",
    "\n",
    "for face_loc in glob.glob('faces/*png'):\n",
    "    try:\n",
    "        image_ = face_recognition.load_image_file(face_loc)\n",
    "        x = image_.shape[0]\n",
    "        y = image_.shape[1]\n",
    "        loc = [(0,0,x,y)]\n",
    "        face_encoding = face_recognition.face_encodings(image_, loc, num_jitters=4,model='large')[0]\n",
    "        if first_arr_loaded:\n",
    "            faces_arr = np.reshape(face_encoding, (-1,len(face_encoding)))\n",
    "            first_arr_loaded = False\n",
    "        else:\n",
    "            faces_arr = np.append(faces_arr,  np.reshape(face_encoding, (-1,len(face_encoding))), axis = 0)\n",
    "        faces.append(face_loc)\n",
    "    except:\n",
    "        failed.append(face_loc) "
   ]
  },
  {
   "cell_type": "code",
   "execution_count": null,
   "metadata": {},
   "outputs": [],
   "source": [
    "similarity = face_recognition.face_distance(faces_arr,known_faces_arr.mean(axis=0))"
   ]
  },
  {
   "cell_type": "code",
   "execution_count": null,
   "metadata": {},
   "outputs": [],
   "source": [
    "similarity"
   ]
  },
  {
   "cell_type": "code",
   "execution_count": null,
   "metadata": {},
   "outputs": [],
   "source": [
    "min(similarity)"
   ]
  },
  {
   "cell_type": "code",
   "execution_count": null,
   "metadata": {},
   "outputs": [],
   "source": [
    "len(np.array(faces)[similarity < 0.25])"
   ]
  },
  {
   "cell_type": "code",
   "execution_count": null,
   "metadata": {},
   "outputs": [],
   "source": [
    "import matplotlib.pyplot as plt\n",
    "image_ = []\n",
    "for i in np.array(faces)[similarity < 0.25]:\n",
    "    image_.append(face_recognition.load_image_file(i))\n",
    "    \n"
   ]
  },
  {
   "cell_type": "code",
   "execution_count": null,
   "metadata": {},
   "outputs": [],
   "source": [
    "plt.imshow(image_[2])"
   ]
  },
  {
   "cell_type": "code",
   "execution_count": 3,
   "metadata": {},
   "outputs": [
    {
     "ename": "KeyError",
     "evalue": "'streamingData'",
     "output_type": "error",
     "traceback": [
      "\u001b[0;31m---------------------------------------------------------------------------\u001b[0m",
      "\u001b[0;31mKeyError\u001b[0m                                  Traceback (most recent call last)",
      "Cell \u001b[0;32mIn[3], line 9\u001b[0m\n\u001b[1;32m      7\u001b[0m mp4_file_download \u001b[38;5;241m=\u001b[39m id_\u001b[38;5;241m+\u001b[39m\u001b[38;5;124m'\u001b[39m\u001b[38;5;124m.mp4\u001b[39m\u001b[38;5;124m'\u001b[39m\n\u001b[1;32m      8\u001b[0m yt \u001b[38;5;241m=\u001b[39m YouTube(link)\n\u001b[0;32m----> 9\u001b[0m stream_ \u001b[38;5;241m=\u001b[39m \u001b[43myt\u001b[49m\u001b[38;5;241;43m.\u001b[39;49m\u001b[43mstreams\u001b[49m\u001b[38;5;241m.\u001b[39mfilter(progressive\u001b[38;5;241m=\u001b[39m\u001b[38;5;124m\"\u001b[39m\u001b[38;5;124mTrue\u001b[39m\u001b[38;5;124m\"\u001b[39m,)\u001b[38;5;241m.\u001b[39masc()[\u001b[38;5;241m1\u001b[39m]\n",
      "File \u001b[0;32m~/projects/personal/alphapolitica/alphapenv/lib/python3.8/site-packages/pytube/__main__.py:285\u001b[0m, in \u001b[0;36mYouTube.streams\u001b[0;34m(self)\u001b[0m\n\u001b[1;32m    280\u001b[0m \u001b[39m\u001b[39m\u001b[39m\"\"\"Interface to query both adaptive (DASH) and progressive streams.\u001b[39;00m\n\u001b[1;32m    281\u001b[0m \n\u001b[1;32m    282\u001b[0m \u001b[39m:rtype: :class:`StreamQuery <StreamQuery>`.\u001b[39;00m\n\u001b[1;32m    283\u001b[0m \u001b[39m\"\"\"\u001b[39;00m\n\u001b[1;32m    284\u001b[0m \u001b[39mself\u001b[39m\u001b[39m.\u001b[39mcheck_availability()\n\u001b[0;32m--> 285\u001b[0m \u001b[39mreturn\u001b[39;00m StreamQuery(\u001b[39mself\u001b[39;49m\u001b[39m.\u001b[39;49mfmt_streams)\n",
      "File \u001b[0;32m~/projects/personal/alphapolitica/alphapenv/lib/python3.8/site-packages/pytube/__main__.py:165\u001b[0m, in \u001b[0;36mYouTube.fmt_streams\u001b[0;34m(self)\u001b[0m\n\u001b[1;32m    161\u001b[0m     \u001b[39mreturn\u001b[39;00m \u001b[39mself\u001b[39m\u001b[39m.\u001b[39m_fmt_streams\n\u001b[1;32m    163\u001b[0m \u001b[39mself\u001b[39m\u001b[39m.\u001b[39m_fmt_streams \u001b[39m=\u001b[39m []\n\u001b[0;32m--> 165\u001b[0m stream_manifest \u001b[39m=\u001b[39m extract\u001b[39m.\u001b[39mapply_descrambler(\u001b[39mself\u001b[39;49m\u001b[39m.\u001b[39;49mstreaming_data)\n\u001b[1;32m    167\u001b[0m \u001b[39m# If the cached js doesn't work, try fetching a new js file\u001b[39;00m\n\u001b[1;32m    168\u001b[0m \u001b[39m# https://github.com/pytube/pytube/issues/1054\u001b[39;00m\n\u001b[1;32m    169\u001b[0m \u001b[39mtry\u001b[39;00m:\n",
      "File \u001b[0;32m~/projects/personal/alphapolitica/alphapenv/lib/python3.8/site-packages/pytube/__main__.py:150\u001b[0m, in \u001b[0;36mYouTube.streaming_data\u001b[0;34m(self)\u001b[0m\n\u001b[1;32m    148\u001b[0m \u001b[39melse\u001b[39;00m:\n\u001b[1;32m    149\u001b[0m     \u001b[39mself\u001b[39m\u001b[39m.\u001b[39mbypass_age_gate()\n\u001b[0;32m--> 150\u001b[0m     \u001b[39mreturn\u001b[39;00m \u001b[39mself\u001b[39;49m\u001b[39m.\u001b[39;49mvid_info[\u001b[39m'\u001b[39;49m\u001b[39mstreamingData\u001b[39;49m\u001b[39m'\u001b[39;49m]\n",
      "\u001b[0;31mKeyError\u001b[0m: 'streamingData'"
     ]
    }
   ],
   "source": [
    "\n",
    "from pytube import YouTube\n",
    "import pandas as pd\n",
    "df = pd.read_csv('video_data/video_input.csv')\n",
    "\n",
    "for id_ in df.ids.values[:1]:\n",
    "    link = 'https://www.youtube.com/watch?v=' +id_\n",
    "    mp4_file_download = id_+'.mp4'\n",
    "    yt = YouTube(link)\n",
    "    stream_ = yt.streams.filter(progressive=\"True\",).asc()[1]\n"
   ]
  },
  {
   "cell_type": "code",
   "execution_count": 15,
   "metadata": {},
   "outputs": [],
   "source": [
    "from yt_dlp import YoutubeDL\n",
    "\n",
    "URLS = ['https://www.youtube.com/watch?v=BaW_jenozKc']\n",
    "\n",
    "import os\n",
    "\n",
    "cur_dir = os.getcwd()\n",
    "def download_video(link, id):\n",
    "    youtube_dl_options = {\n",
    "        \"outtmpl\": os.path.join('/Users/kowshik/projects/personal/alphapolitica/video_data', f\"{id}.mp4\"),\n",
    "        'extract_audio': False,\n",
    "        'format':'137'\n",
    "    }\n",
    "    with YoutubeDL(youtube_dl_options) as ydl:\n",
    "        return ydl.download([link])\n",
    "\n"
   ]
  },
  {
   "cell_type": "code",
   "execution_count": 16,
   "metadata": {},
   "outputs": [
    {
     "data": {
      "text/plain": [
       "'/Users/kowshik/projects/personal/alphapolitica'"
      ]
     },
     "execution_count": 16,
     "metadata": {},
     "output_type": "execute_result"
    }
   ],
   "source": [
    "cur_dir"
   ]
  },
  {
   "cell_type": "code",
   "execution_count": 17,
   "metadata": {},
   "outputs": [
    {
     "name": "stdout",
     "output_type": "stream",
     "text": [
      "[youtube] Extracting URL: https://www.youtube.com/watch?v=KF2Bi1CXzbI\n",
      "[youtube] KF2Bi1CXzbI: Downloading webpage\n",
      "[youtube] KF2Bi1CXzbI: Downloading android player API JSON\n",
      "[info] KF2Bi1CXzbI: Downloading 1 format(s): 248+251\n",
      "[dashsegments] Total fragments: 4\n",
      "[download] Destination: /Users/kowshik/projects/personal/alphapolitica/video_data/KF2Bi1CXzbI.mp4.f248.webm\n",
      "[download] 100% of   30.20MiB in 00:00:13 at 2.16MiB/s                  \n",
      "[dashsegments] Total fragments: 1\n",
      "[download] Destination: /Users/kowshik/projects/personal/alphapolitica/video_data/KF2Bi1CXzbI.mp4.f251.webm\n",
      "[download] 100% of    3.44MiB in 00:00:02 at 1.25MiB/s               \n",
      "[Merger] Merging formats into \"/Users/kowshik/projects/personal/alphapolitica/video_data/KF2Bi1CXzbI.mp4.webm\"\n",
      "Deleting original file /Users/kowshik/projects/personal/alphapolitica/video_data/KF2Bi1CXzbI.mp4.f248.webm (pass -k to keep)\n",
      "Deleting original file /Users/kowshik/projects/personal/alphapolitica/video_data/KF2Bi1CXzbI.mp4.f251.webm (pass -k to keep)\n"
     ]
    },
    {
     "data": {
      "text/plain": [
       "0"
      ]
     },
     "execution_count": 17,
     "metadata": {},
     "output_type": "execute_result"
    }
   ],
   "source": [
    "download_video('https://www.youtube.com/watch?v=KF2Bi1CXzbI','KF2Bi1CXzbI')"
   ]
  },
  {
   "cell_type": "code",
   "execution_count": null,
   "metadata": {},
   "outputs": [],
   "source": []
  }
 ],
 "metadata": {
  "kernelspec": {
   "display_name": "Python 3.8.16 ('alphapenv': venv)",
   "language": "python",
   "name": "python3"
  },
  "language_info": {
   "codemirror_mode": {
    "name": "ipython",
    "version": 3
   },
   "file_extension": ".py",
   "mimetype": "text/x-python",
   "name": "python",
   "nbconvert_exporter": "python",
   "pygments_lexer": "ipython3",
   "version": "3.8.16"
  },
  "orig_nbformat": 4,
  "vscode": {
   "interpreter": {
    "hash": "277fab76d0acca917d9ff45691135e5555c82671ab771a82f606bf05d4140469"
   }
  }
 },
 "nbformat": 4,
 "nbformat_minor": 2
}
