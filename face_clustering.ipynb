{
 "cells": [
  {
   "cell_type": "code",
   "execution_count": 44,
   "metadata": {},
   "outputs": [],
   "source": [
    "import face_recognition\n",
    "from PIL import Image, ImageDraw\n",
    "import numpy as np\n",
    "import glob\n",
    "\n",
    "first_arr_loaded = True\n",
    "for face_loc in glob.glob('known_faces/*png'):\n",
    "    image_ = face_recognition.load_image_file(face_loc)\n",
    "    face_encoding = face_recognition.face_encodings(image_)[0]\n",
    "    if first_arr_loaded:\n",
    "        known_faces_arr = np.reshape(face_encoding, (-1,len(face_encoding)))\n",
    "        first_arr_loaded = False\n",
    "    else:\n",
    "        known_faces_arr = np.append(known_faces_arr,  np.reshape(face_encoding, (-1,len(face_encoding))), axis = 0) \n",
    "        "
   ]
  },
  {
   "cell_type": "code",
   "execution_count": 45,
   "metadata": {},
   "outputs": [],
   "source": [
    "first_arr_loaded = True\n",
    "failed = []\n",
    "faces = []\n",
    "\n",
    "for face_loc in glob.glob('faces/*png'):\n",
    "    try:\n",
    "        image_ = face_recognition.load_image_file(face_loc)\n",
    "        x = image_.shape[0]\n",
    "        y = image_.shape[1]\n",
    "        loc = [(0,0,x,y)]\n",
    "        face_encoding = face_recognition.face_encodings(image_, loc)[0]\n",
    "        if first_arr_loaded:\n",
    "            faces_arr = np.reshape(face_encoding, (-1,len(face_encoding)))\n",
    "            first_arr_loaded = False\n",
    "        else:\n",
    "            faces_arr = np.append(faces_arr,  np.reshape(face_encoding, (-1,len(face_encoding))), axis = 0)\n",
    "        faces.append(face_loc)\n",
    "    except:\n",
    "        failed.append(face_loc) "
   ]
  },
  {
   "cell_type": "code",
   "execution_count": 47,
   "metadata": {},
   "outputs": [],
   "source": [
    "similarity = face_recognition.face_distance(faces_arr,known_faces_arr[1])"
   ]
  },
  {
   "cell_type": "code",
   "execution_count": 48,
   "metadata": {},
   "outputs": [
    {
     "data": {
      "text/plain": [
       "array(['faces/QLSc3VUgayM_9001_face_0.png',\n",
       "       'faces/QLSc3VUgayM_3601_face_0.png',\n",
       "       'faces/QLSc3VUgayM_2401_face_0.png'], dtype='<U33')"
      ]
     },
     "execution_count": 48,
     "metadata": {},
     "output_type": "execute_result"
    }
   ],
   "source": [
    "np.array(faces)[similarity < 0.6]"
   ]
  },
  {
   "cell_type": "code",
   "execution_count": 49,
   "metadata": {},
   "outputs": [],
   "source": [
    "import matplotlib.pyplot as plt\n",
    "image_ = []\n",
    "for i in np.array(faces)[similarity < 0.6]:\n",
    "    image_.append(face_recognition.load_image_file(i))\n",
    "    \n"
   ]
  },
  {
   "cell_type": "code",
   "execution_count": 55,
   "metadata": {},
   "outputs": [
    {
     "data": {
      "text/plain": [
       "<matplotlib.image.AxesImage at 0x151417f10>"
      ]
     },
     "execution_count": 55,
     "metadata": {},
     "output_type": "execute_result"
    },
    {
     "data": {
      "image/png": "[encoded data removed]",
      "text/plain": [
       "<Figure size 640x480 with 1 Axes>"
      ]
     },
     "metadata": {},
     "output_type": "display_data"
    }
   ],
   "source": [
    "plt.imshow(image_[2])"
   ]
  },
  {
   "cell_type": "code",
   "execution_count": 10,
   "metadata": {},
   "outputs": [
    {
     "ename": "IndexError",
     "evalue": "boolean index did not match indexed array along dimension 0; dimension is 120 but corresponding boolean dimension is 72",
     "output_type": "error",
     "traceback": [
      "\u001b[0;31m---------------------------------------------------------------------------\u001b[0m",
      "\u001b[0;31mIndexError\u001b[0m                                Traceback (most recent call last)",
      "Cell \u001b[0;32mIn[10], line 1\u001b[0m\n\u001b[0;32m----> 1\u001b[0m \u001b[43mnp\u001b[49m\u001b[38;5;241;43m.\u001b[39;49m\u001b[43marray\u001b[49m\u001b[43m(\u001b[49m\u001b[43mglob\u001b[49m\u001b[38;5;241;43m.\u001b[39;49m\u001b[43mglob\u001b[49m\u001b[43m(\u001b[49m\u001b[38;5;124;43m'\u001b[39;49m\u001b[38;5;124;43mfaces/*png\u001b[39;49m\u001b[38;5;124;43m'\u001b[39;49m\u001b[43m)\u001b[49m\u001b[43m)\u001b[49m\u001b[43m[\u001b[49m\u001b[43msimilarity\u001b[49m\u001b[43m \u001b[49m\u001b[38;5;241;43m<\u001b[39;49m\u001b[43m \u001b[49m\u001b[38;5;241;43m0.6\u001b[39;49m\u001b[43m]\u001b[49m\n",
      "\u001b[0;31mIndexError\u001b[0m: boolean index did not match indexed array along dimension 0; dimension is 120 but corresponding boolean dimension is 72"
     ]
    }
   ],
   "source": [
    "np.array(glob.glob('faces/*png'))[similarity < 0.6]"
   ]
  },
  {
   "cell_type": "code",
   "execution_count": 120,
   "metadata": {},
   "outputs": [
    {
     "data": {
      "text/plain": [
       "array(['faces/R4ELPP6m-2A_7051_face_0.png',\n",
       "       'faces/R4ELPP6m-2A_6901_face_0.png'], dtype='<U33')"
      ]
     },
     "execution_count": 120,
     "metadata": {},
     "output_type": "execute_result"
    }
   ],
   "source": [
    "np.array(glob.glob('faces/*png'))[similarity > 0.8]"
   ]
  },
  {
   "cell_type": "code",
   "execution_count": 121,
   "metadata": {},
   "outputs": [
    {
     "data": {
      "text/plain": [
       "array([-1.07424527e-01,  1.45376623e-02,  3.21743339e-02, -5.23101091e-02,\n",
       "       -1.06593817e-01, -4.85867225e-02,  3.17006893e-02, -9.96285975e-02,\n",
       "        1.07211195e-01,  5.47065213e-03,  1.58308476e-01, -2.37730332e-03,\n",
       "       -2.14943975e-01, -1.16945893e-01, -1.80149451e-02,  8.16828758e-02,\n",
       "       -5.73163405e-02, -9.45143700e-02, -1.37182146e-01, -1.15132302e-01,\n",
       "        4.98968512e-02,  5.52140251e-02,  6.81676045e-02, -3.81106883e-03,\n",
       "       -9.26888138e-02, -2.80974805e-01, -7.93390572e-02, -1.13317989e-01,\n",
       "        1.19700342e-01, -1.04224563e-01,  1.85250528e-02,  8.95898640e-02,\n",
       "       -1.85835898e-01, -7.34466091e-02,  1.60122588e-02,  3.69635075e-02,\n",
       "       -8.98369104e-02, -1.43567860e-01,  2.08179459e-01,  6.29121438e-04,\n",
       "       -1.74509898e-01, -1.55189633e-03,  7.65244365e-02,  2.10153788e-01,\n",
       "        1.86724812e-01, -7.23331422e-02,  1.22308657e-02, -3.72268260e-02,\n",
       "        1.00051723e-01, -2.31954366e-01,  4.27298956e-02,  1.51747242e-01,\n",
       "        1.70389935e-01,  8.05913359e-02,  7.64314607e-02, -6.56564534e-02,\n",
       "        7.06894100e-02,  8.43986571e-02, -2.10149199e-01,  6.15345240e-02,\n",
       "        1.02192864e-01, -8.80818069e-02, -7.74972588e-02, -9.62048471e-02,\n",
       "        1.16931610e-01,  1.38378650e-01, -6.23413324e-02, -1.38779640e-01,\n",
       "        7.98874721e-02, -1.78993553e-01, -4.51302007e-02,  8.10362846e-02,\n",
       "       -1.11341193e-01, -1.31590977e-01, -1.65492058e-01,  3.63445878e-02,\n",
       "        3.14510763e-01,  1.70413509e-01, -1.85074747e-01, -1.14180893e-03,\n",
       "       -1.21714845e-01, -9.54896957e-03,  4.75780144e-02, -2.68959180e-02,\n",
       "       -1.00073695e-01, -4.12326604e-02, -6.98195845e-02, -6.09561801e-03,\n",
       "        2.04990804e-01, -5.09552956e-02, -3.10430881e-02,  2.04776943e-01,\n",
       "        4.36076261e-02,  4.10039723e-03,  3.36442143e-02, -3.51695195e-02,\n",
       "       -8.29025432e-02, -1.09054763e-02, -6.23487085e-02,  3.07902694e-04,\n",
       "        3.55402678e-02, -1.75077796e-01,  4.24494892e-02,  3.77455801e-02,\n",
       "       -1.50066122e-01,  1.81655988e-01,  1.41222179e-02,  2.72577628e-03,\n",
       "        5.00581637e-02, -4.98078018e-02, -1.05671421e-01,  2.39244103e-03,\n",
       "        1.40099853e-01, -1.63436547e-01,  2.76443660e-01,  1.33848011e-01,\n",
       "        3.66398767e-02,  1.04558572e-01,  9.08134282e-02,  9.78195220e-02,\n",
       "       -4.34022546e-02, -3.89755517e-03, -6.38160408e-02, -7.79804438e-02,\n",
       "        8.95534083e-02, -4.25511375e-02,  2.88286060e-02, -1.69872493e-03])"
      ]
     },
     "execution_count": 121,
     "metadata": {},
     "output_type": "execute_result"
    }
   ],
   "source": [
    "face_encoding"
   ]
  },
  {
   "cell_type": "code",
   "execution_count": null,
   "metadata": {},
   "outputs": [],
   "source": []
  }
 ],
 "metadata": {
  "kernelspec": {
   "display_name": "Python 3.8.16 ('alphapenv': venv)",
   "language": "python",
   "name": "python3"
  },
  "language_info": {
   "codemirror_mode": {
    "name": "ipython",
    "version": 3
   },
   "file_extension": ".py",
   "mimetype": "text/x-python",
   "name": "python",
   "nbconvert_exporter": "python",
   "pygments_lexer": "ipython3",
   "version": "3.8.16"
  },
  "orig_nbformat": 4,
  "vscode": {
   "interpreter": {
    "hash": "277fab76d0acca917d9ff45691135e5555c82671ab771a82f606bf05d4140469"
   }
  }
 },
 "nbformat": 4,
 "nbformat_minor": 2
}
